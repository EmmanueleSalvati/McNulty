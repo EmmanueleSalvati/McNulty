{
 "metadata": {
  "name": "",
  "signature": "sha256:fdfa1ddda664af68f2e327799944b1bc159b0e8e893b8451045de137940d5439"
 },
 "nbformat": 3,
 "nbformat_minor": 0,
 "worksheets": [
  {
   "cells": [
    {
     "cell_type": "code",
     "collapsed": false,
     "input": [
      "import pandas as pd\n",
      "import numpy as np\n",
      "import McNulty_helper\n",
      "reload(McNulty_helper)\n",
      "from McNulty_read_sql import import_df\n",
      "%matplotlib inline\n",
      "import matplotlib.pyplot as plt\n",
      "import seaborn as sns\n",
      "sns.set()"
     ],
     "language": "python",
     "metadata": {},
     "outputs": [],
     "prompt_number": 84
    },
    {
     "cell_type": "code",
     "collapsed": false,
     "input": [
      "from sklearn.linear_model import LogisticRegression\n",
      "from sklearn.cross_validation import train_test_split\n",
      "from sklearn.metrics import classification_report"
     ],
     "language": "python",
     "metadata": {},
     "outputs": [],
     "prompt_number": 85
    },
    {
     "cell_type": "code",
     "collapsed": false,
     "input": [
      "raw_df = import_df('all_hospitals')\n",
      "raw_df = McNulty_helper.clean_question_marks(raw_df)\n",
      "McNulty_helper.zero_to_NaN(raw_df, 'chol_mg_dl')\n",
      "McNulty_helper.zero_to_NaN(raw_df, 'rest_bp')\n",
      "McNulty_helper.change_types(raw_df)\n",
      "df = McNulty_helper.NaN_to_modes(raw_df)\n",
      "df = McNulty_helper.reduce_diagnosis(df)\n",
      "men = df.loc[df['sex']==1.0,]"
     ],
     "language": "python",
     "metadata": {},
     "outputs": [],
     "prompt_number": 92
    },
    {
     "cell_type": "code",
     "collapsed": false,
     "input": [
      "(train_arr, test_arr) = train_test_split(men)\n",
      "train = pd.DataFrame(train_arr, copy=True)\n",
      "test = pd.DataFrame(test_arr, copy=True)\n",
      "train.columns = men.columns\n",
      "test.columns = men.columns\n",
      "McNulty_helper.change_types(train)\n",
      "\n"
     ],
     "language": "python",
     "metadata": {},
     "outputs": [],
     "prompt_number": 109
    },
    {
     "cell_type": "code",
     "collapsed": false,
     "input": [
      "train.columns"
     ],
     "language": "python",
     "metadata": {},
     "outputs": [
      {
       "metadata": {},
       "output_type": "pyout",
       "prompt_number": 110,
       "text": [
        "Index([u'age', u'sex', u'chest_pain_type', u'rest_bp', u'chol_mg_dl', u'fast_blood_sugar', u'rest_ecg', u'st_max_heart_rt_ach', u'st_exercise_angina', u'st_depression', u'st_exercise_slope', u'colored_vessels', u'thal_defect', u'diagnosis', u'hospital', u'patient_id'], dtype='object')"
       ]
      }
     ],
     "prompt_number": 110
    },
    {
     "cell_type": "markdown",
     "metadata": {},
     "source": [
      "## First log regression: only rest_bp, age, and cholesterol"
     ]
    },
    {
     "cell_type": "code",
     "collapsed": false,
     "input": [
      "X = train[['rest_bp', 'age', 'chol_mg_dl']]\n",
      "X['Ones'] = 1.0\n",
      "Y = train['diagnosis']"
     ],
     "language": "python",
     "metadata": {},
     "outputs": [],
     "prompt_number": 118
    },
    {
     "cell_type": "code",
     "collapsed": false,
     "input": [
      "lm = LogisticRegression()\n",
      "lm.fit(X, Y)\n",
      "Ypred = lm.predict(X)\n",
      "target_names = ['good', 'bad']\n",
      "print classification_report(np.array(Y), Ypred, target_names=target_names)\n",
      "print lm.coef_"
     ],
     "language": "python",
     "metadata": {},
     "outputs": [
      {
       "output_type": "stream",
       "stream": "stdout",
       "text": [
        "             precision    recall  f1-score   support\n",
        "\n",
        "       good       0.57      0.24      0.34       194\n",
        "        bad       0.68      0.90      0.78       350\n",
        "\n",
        "avg / total       0.64      0.67      0.62       544\n",
        "\n",
        "[[-0.0089664   0.0627871   0.00181245 -0.98304845]]\n"
       ]
      }
     ],
     "prompt_number": 111
    },
    {
     "cell_type": "code",
     "collapsed": false,
     "input": [
      "from statsmodels.formula.api import Logit\n",
      "model = Logit(Y,X).fit()"
     ],
     "language": "python",
     "metadata": {},
     "outputs": [
      {
       "output_type": "stream",
       "stream": "stdout",
       "text": [
        "Optimization terminated successfully.\n",
        "         Current function value: 0.609283\n",
        "         Iterations 5\n"
       ]
      }
     ],
     "prompt_number": 112
    },
    {
     "cell_type": "code",
     "collapsed": false,
     "input": [
      "model.summary()"
     ],
     "language": "python",
     "metadata": {},
     "outputs": [
      {
       "html": [
        "<table class=\"simpletable\">\n",
        "<caption>Logit Regression Results</caption>\n",
        "<tr>\n",
        "  <th>Dep. Variable:</th>     <td>diagnosis</td>    <th>  No. Observations:  </th>  <td>   544</td>  \n",
        "</tr>\n",
        "<tr>\n",
        "  <th>Model:</th>               <td>Logit</td>      <th>  Df Residuals:      </th>  <td>   540</td>  \n",
        "</tr>\n",
        "<tr>\n",
        "  <th>Method:</th>               <td>MLE</td>       <th>  Df Model:          </th>  <td>     3</td>  \n",
        "</tr>\n",
        "<tr>\n",
        "  <th>Date:</th>          <td>Fri, 06 Feb 2015</td> <th>  Pseudo R-squ.:     </th>  <td>0.06472</td> \n",
        "</tr>\n",
        "<tr>\n",
        "  <th>Time:</th>              <td>17:22:26</td>     <th>  Log-Likelihood:    </th> <td> -331.45</td> \n",
        "</tr>\n",
        "<tr>\n",
        "  <th>converged:</th>           <td>True</td>       <th>  LL-Null:           </th> <td> -354.39</td> \n",
        "</tr>\n",
        "<tr>\n",
        "  <th> </th>                      <td> </td>        <th>  LLR p-value:       </th> <td>6.031e-10</td>\n",
        "</tr>\n",
        "</table>\n",
        "<table class=\"simpletable\">\n",
        "<tr>\n",
        "       <td></td>         <th>coef</th>     <th>std err</th>      <th>z</th>      <th>P>|z|</th> <th>[95.0% Conf. Int.]</th> \n",
        "</tr>\n",
        "<tr>\n",
        "  <th>rest_bp</th>    <td>   -0.0061</td> <td>    0.005</td> <td>   -1.150</td> <td> 0.250</td> <td>   -0.016     0.004</td>\n",
        "</tr>\n",
        "<tr>\n",
        "  <th>age</th>        <td>    0.0675</td> <td>    0.011</td> <td>    6.370</td> <td> 0.000</td> <td>    0.047     0.088</td>\n",
        "</tr>\n",
        "<tr>\n",
        "  <th>chol_mg_dl</th> <td>    0.0026</td> <td>    0.002</td> <td>    1.392</td> <td> 0.164</td> <td>   -0.001     0.006</td>\n",
        "</tr>\n",
        "<tr>\n",
        "  <th>Ones</th>       <td>   -2.7981</td> <td>    0.923</td> <td>   -3.031</td> <td> 0.002</td> <td>   -4.608    -0.988</td>\n",
        "</tr>\n",
        "</table>"
       ],
       "metadata": {},
       "output_type": "pyout",
       "prompt_number": 113,
       "text": [
        "<class 'statsmodels.iolib.summary.Summary'>\n",
        "\"\"\"\n",
        "                           Logit Regression Results                           \n",
        "==============================================================================\n",
        "Dep. Variable:              diagnosis   No. Observations:                  544\n",
        "Model:                          Logit   Df Residuals:                      540\n",
        "Method:                           MLE   Df Model:                            3\n",
        "Date:                Fri, 06 Feb 2015   Pseudo R-squ.:                 0.06472\n",
        "Time:                        17:22:26   Log-Likelihood:                -331.45\n",
        "converged:                       True   LL-Null:                       -354.39\n",
        "                                        LLR p-value:                 6.031e-10\n",
        "==============================================================================\n",
        "                 coef    std err          z      P>|z|      [95.0% Conf. Int.]\n",
        "------------------------------------------------------------------------------\n",
        "rest_bp       -0.0061      0.005     -1.150      0.250        -0.016     0.004\n",
        "age            0.0675      0.011      6.370      0.000         0.047     0.088\n",
        "chol_mg_dl     0.0026      0.002      1.392      0.164        -0.001     0.006\n",
        "Ones          -2.7981      0.923     -3.031      0.002        -4.608    -0.988\n",
        "==============================================================================\n",
        "\"\"\""
       ]
      }
     ],
     "prompt_number": 113
    },
    {
     "cell_type": "markdown",
     "metadata": {},
     "source": [
      "##### seems like age is the only meaningful variable"
     ]
    },
    {
     "cell_type": "code",
     "collapsed": false,
     "input": [],
     "language": "python",
     "metadata": {},
     "outputs": []
    },
    {
     "cell_type": "markdown",
     "metadata": {},
     "source": [
      "----\n",
      "## Adding categorical variables: chest pain type, fast blood sugar, thal defect"
     ]
    },
    {
     "cell_type": "code",
     "collapsed": false,
     "input": [
      "cp = pd.get_dummies(train['chest_pain_type'])\n",
      "fbs = pd.get_dummies(train['fast_blood_sugar'])\n",
      "thal = pd.get_dummies(train['thal_defect'])"
     ],
     "language": "python",
     "metadata": {},
     "outputs": [],
     "prompt_number": 120
    },
    {
     "cell_type": "code",
     "collapsed": false,
     "input": [
      "cp.columns = ['cp1', 'cp2', 'cp3', 'cp_asym']\n",
      "fbs.columns = ['fbs0', 'fbs1']\n",
      "thal.columns = ['thal3', 'thal6', 'thal7']"
     ],
     "language": "python",
     "metadata": {},
     "outputs": [],
     "prompt_number": 137
    },
    {
     "cell_type": "code",
     "collapsed": false,
     "input": [
      "train2 = pd.concat([train, cp, fbs, thal], axis=1)"
     ],
     "language": "python",
     "metadata": {},
     "outputs": [],
     "prompt_number": 134
    },
    {
     "cell_type": "code",
     "collapsed": false,
     "input": [
      "train2.columns"
     ],
     "language": "python",
     "metadata": {},
     "outputs": [
      {
       "metadata": {},
       "output_type": "pyout",
       "prompt_number": 138,
       "text": [
        "Index([u'age', u'sex', u'chest_pain_type', u'rest_bp', u'chol_mg_dl', u'fast_blood_sugar', u'rest_ecg', u'st_max_heart_rt_ach', u'st_exercise_angina', u'st_depression', u'st_exercise_slope', u'colored_vessels', u'thal_defect', u'diagnosis', u'hospital', u'patient_id', u'cp1', u'cp2', u'cp3', u'cp_asym', u'fbs0', u'fbs1', u'thal3', u'thal6', u'thal7'], dtype='object')"
       ]
      }
     ],
     "prompt_number": 138
    },
    {
     "cell_type": "code",
     "collapsed": false,
     "input": [
      "X2 = train2[['rest_bp', 'age', 'chol_mg_dl', 'fbs0', 'fbs1']]\n",
      "X2['Ones'] = 1.0\n",
      "Y2 = train2['diagnosis']\n",
      "model2 = Logit(Y2, X2).fit()"
     ],
     "language": "python",
     "metadata": {},
     "outputs": [
      {
       "output_type": "stream",
       "stream": "stdout",
       "text": [
        "Optimization terminated successfully.\n",
        "         Current function value: 0.608770\n",
        "         Iterations 9\n"
       ]
      }
     ],
     "prompt_number": 169
    },
    {
     "cell_type": "code",
     "collapsed": false,
     "input": [
      "model2.summary()"
     ],
     "language": "python",
     "metadata": {},
     "outputs": [
      {
       "html": [
        "<table class=\"simpletable\">\n",
        "<caption>Logit Regression Results</caption>\n",
        "<tr>\n",
        "  <th>Dep. Variable:</th>     <td>diagnosis</td>    <th>  No. Observations:  </th>  <td>   544</td>  \n",
        "</tr>\n",
        "<tr>\n",
        "  <th>Model:</th>               <td>Logit</td>      <th>  Df Residuals:      </th>  <td>   539</td>  \n",
        "</tr>\n",
        "<tr>\n",
        "  <th>Method:</th>               <td>MLE</td>       <th>  Df Model:          </th>  <td>     4</td>  \n",
        "</tr>\n",
        "<tr>\n",
        "  <th>Date:</th>          <td>Fri, 06 Feb 2015</td> <th>  Pseudo R-squ.:     </th>  <td>0.06551</td> \n",
        "</tr>\n",
        "<tr>\n",
        "  <th>Time:</th>              <td>18:11:35</td>     <th>  Log-Likelihood:    </th> <td> -331.17</td> \n",
        "</tr>\n",
        "<tr>\n",
        "  <th>converged:</th>           <td>True</td>       <th>  LL-Null:           </th> <td> -354.39</td> \n",
        "</tr>\n",
        "<tr>\n",
        "  <th> </th>                      <td> </td>        <th>  LLR p-value:       </th> <td>2.002e-09</td>\n",
        "</tr>\n",
        "</table>\n",
        "<table class=\"simpletable\">\n",
        "<tr>\n",
        "       <td></td>         <th>coef</th>     <th>std err</th>      <th>z</th>      <th>P>|z|</th> <th>[95.0% Conf. Int.]</th> \n",
        "</tr>\n",
        "<tr>\n",
        "  <th>rest_bp</th>    <td>   -0.0064</td> <td>    0.005</td> <td>   -1.207</td> <td> 0.227</td> <td>   -0.017     0.004</td>\n",
        "</tr>\n",
        "<tr>\n",
        "  <th>age</th>        <td>    0.0659</td> <td>    0.011</td> <td>    6.091</td> <td> 0.000</td> <td>    0.045     0.087</td>\n",
        "</tr>\n",
        "<tr>\n",
        "  <th>chol_mg_dl</th> <td>    0.0026</td> <td>    0.002</td> <td>    1.349</td> <td> 0.177</td> <td>   -0.001     0.006</td>\n",
        "</tr>\n",
        "<tr>\n",
        "  <th>fbs0</th>       <td>   -0.9630</td> <td> 1.51e+07</td> <td>-6.36e-08</td> <td> 1.000</td> <td>-2.97e+07  2.97e+07</td>\n",
        "</tr>\n",
        "<tr>\n",
        "  <th>fbs1</th>       <td>   -0.7556</td> <td> 1.51e+07</td> <td>-4.99e-08</td> <td> 1.000</td> <td>-2.97e+07  2.97e+07</td>\n",
        "</tr>\n",
        "<tr>\n",
        "  <th>Ones</th>       <td>   -1.7186</td> <td> 1.51e+07</td> <td>-1.14e-07</td> <td> 1.000</td> <td>-2.97e+07  2.97e+07</td>\n",
        "</tr>\n",
        "</table>"
       ],
       "metadata": {},
       "output_type": "pyout",
       "prompt_number": 170,
       "text": [
        "<class 'statsmodels.iolib.summary.Summary'>\n",
        "\"\"\"\n",
        "                           Logit Regression Results                           \n",
        "==============================================================================\n",
        "Dep. Variable:              diagnosis   No. Observations:                  544\n",
        "Model:                          Logit   Df Residuals:                      539\n",
        "Method:                           MLE   Df Model:                            4\n",
        "Date:                Fri, 06 Feb 2015   Pseudo R-squ.:                 0.06551\n",
        "Time:                        18:11:35   Log-Likelihood:                -331.17\n",
        "converged:                       True   LL-Null:                       -354.39\n",
        "                                        LLR p-value:                 2.002e-09\n",
        "==============================================================================\n",
        "                 coef    std err          z      P>|z|      [95.0% Conf. Int.]\n",
        "------------------------------------------------------------------------------\n",
        "rest_bp       -0.0064      0.005     -1.207      0.227        -0.017     0.004\n",
        "age            0.0659      0.011      6.091      0.000         0.045     0.087\n",
        "chol_mg_dl     0.0026      0.002      1.349      0.177        -0.001     0.006\n",
        "fbs0          -0.9630   1.51e+07  -6.36e-08      1.000     -2.97e+07  2.97e+07\n",
        "fbs1          -0.7556   1.51e+07  -4.99e-08      1.000     -2.97e+07  2.97e+07\n",
        "Ones          -1.7186   1.51e+07  -1.14e-07      1.000     -2.97e+07  2.97e+07\n",
        "==============================================================================\n",
        "\"\"\""
       ]
      }
     ],
     "prompt_number": 170
    },
    {
     "cell_type": "code",
     "collapsed": false,
     "input": [
      "train2.cp3.hist()"
     ],
     "language": "python",
     "metadata": {},
     "outputs": [
      {
       "metadata": {},
       "output_type": "pyout",
       "prompt_number": 154,
       "text": [
        "<matplotlib.axes._subplots.AxesSubplot at 0x1096a08d0>"
       ]
      },
      {
       "metadata": {},
       "output_type": "display_data",
       "png": "[encoded data removed]",
       "text": [
        "<matplotlib.figure.Figure at 0x1096e3a50>"
       ]
      }
     ],
     "prompt_number": 154
    },
    {
     "cell_type": "code",
     "collapsed": false,
     "input": [
      "train2.head()"
     ],
     "language": "python",
     "metadata": {},
     "outputs": [
      {
       "html": [
        "<div style=\"max-height:1000px;max-width:1500px;overflow:auto;\">\n",
        "<table border=\"1\" class=\"dataframe\">\n",
        "  <thead>\n",
        "    <tr style=\"text-align: right;\">\n",
        "      <th></th>\n",
        "      <th>age</th>\n",
        "      <th>sex</th>\n",
        "      <th>chest_pain_type</th>\n",
        "      <th>rest_bp</th>\n",
        "      <th>chol_mg_dl</th>\n",
        "      <th>fast_blood_sugar</th>\n",
        "      <th>rest_ecg</th>\n",
        "      <th>st_max_heart_rt_ach</th>\n",
        "      <th>st_exercise_angina</th>\n",
        "      <th>st_depression</th>\n",
        "      <th>...</th>\n",
        "      <th>patient_id</th>\n",
        "      <th>cp1</th>\n",
        "      <th>cp2</th>\n",
        "      <th>cp3</th>\n",
        "      <th>cp_asym</th>\n",
        "      <th>fbs0</th>\n",
        "      <th>fbs1</th>\n",
        "      <th>thal3</th>\n",
        "      <th>thal6</th>\n",
        "      <th>thal7</th>\n",
        "    </tr>\n",
        "  </thead>\n",
        "  <tbody>\n",
        "    <tr>\n",
        "      <th>0</th>\n",
        "      <td> 45</td>\n",
        "      <td> 1</td>\n",
        "      <td> 4</td>\n",
        "      <td> 120</td>\n",
        "      <td> 225</td>\n",
        "      <td> 0</td>\n",
        "      <td> 0</td>\n",
        "      <td> 140</td>\n",
        "      <td> 0</td>\n",
        "      <td> 0.0</td>\n",
        "      <td>...</td>\n",
        "      <td> 503</td>\n",
        "      <td> 0</td>\n",
        "      <td> 0</td>\n",
        "      <td> 0</td>\n",
        "      <td> 1</td>\n",
        "      <td> 1</td>\n",
        "      <td> 0</td>\n",
        "      <td> 1</td>\n",
        "      <td> 0</td>\n",
        "      <td> 0</td>\n",
        "    </tr>\n",
        "    <tr>\n",
        "      <th>1</th>\n",
        "      <td> 64</td>\n",
        "      <td> 1</td>\n",
        "      <td> 4</td>\n",
        "      <td> 130</td>\n",
        "      <td> 258</td>\n",
        "      <td> 1</td>\n",
        "      <td> 2</td>\n",
        "      <td> 130</td>\n",
        "      <td> 0</td>\n",
        "      <td> 0.0</td>\n",
        "      <td>...</td>\n",
        "      <td> 898</td>\n",
        "      <td> 0</td>\n",
        "      <td> 0</td>\n",
        "      <td> 0</td>\n",
        "      <td> 1</td>\n",
        "      <td> 0</td>\n",
        "      <td> 1</td>\n",
        "      <td> 0</td>\n",
        "      <td> 1</td>\n",
        "      <td> 0</td>\n",
        "    </tr>\n",
        "    <tr>\n",
        "      <th>2</th>\n",
        "      <td> 55</td>\n",
        "      <td> 1</td>\n",
        "      <td> 4</td>\n",
        "      <td> 140</td>\n",
        "      <td> 217</td>\n",
        "      <td> 0</td>\n",
        "      <td> 0</td>\n",
        "      <td> 111</td>\n",
        "      <td> 1</td>\n",
        "      <td> 5.6</td>\n",
        "      <td>...</td>\n",
        "      <td> 124</td>\n",
        "      <td> 0</td>\n",
        "      <td> 0</td>\n",
        "      <td> 0</td>\n",
        "      <td> 1</td>\n",
        "      <td> 1</td>\n",
        "      <td> 0</td>\n",
        "      <td> 0</td>\n",
        "      <td> 0</td>\n",
        "      <td> 1</td>\n",
        "    </tr>\n",
        "    <tr>\n",
        "      <th>3</th>\n",
        "      <td> 64</td>\n",
        "      <td> 1</td>\n",
        "      <td> 4</td>\n",
        "      <td> 130</td>\n",
        "      <td> 223</td>\n",
        "      <td> 0</td>\n",
        "      <td> 1</td>\n",
        "      <td> 128</td>\n",
        "      <td> 0</td>\n",
        "      <td> 0.5</td>\n",
        "      <td>...</td>\n",
        "      <td> 825</td>\n",
        "      <td> 0</td>\n",
        "      <td> 0</td>\n",
        "      <td> 0</td>\n",
        "      <td> 1</td>\n",
        "      <td> 1</td>\n",
        "      <td> 0</td>\n",
        "      <td> 1</td>\n",
        "      <td> 0</td>\n",
        "      <td> 0</td>\n",
        "    </tr>\n",
        "    <tr>\n",
        "      <th>4</th>\n",
        "      <td> 62</td>\n",
        "      <td> 1</td>\n",
        "      <td> 1</td>\n",
        "      <td> 120</td>\n",
        "      <td> 139</td>\n",
        "      <td> 0</td>\n",
        "      <td> 1</td>\n",
        "      <td> 150</td>\n",
        "      <td> 0</td>\n",
        "      <td> 0.0</td>\n",
        "      <td>...</td>\n",
        "      <td> 917</td>\n",
        "      <td> 1</td>\n",
        "      <td> 0</td>\n",
        "      <td> 0</td>\n",
        "      <td> 0</td>\n",
        "      <td> 1</td>\n",
        "      <td> 0</td>\n",
        "      <td> 1</td>\n",
        "      <td> 0</td>\n",
        "      <td> 0</td>\n",
        "    </tr>\n",
        "  </tbody>\n",
        "</table>\n",
        "<p>5 rows \u00d7 25 columns</p>\n",
        "</div>"
       ],
       "metadata": {},
       "output_type": "pyout",
       "prompt_number": 172,
       "text": [
        "   age  sex  chest_pain_type  rest_bp  chol_mg_dl  fast_blood_sugar  rest_ecg  \\\n",
        "0   45    1                4      120         225                 0         0   \n",
        "1   64    1                4      130         258                 1         2   \n",
        "2   55    1                4      140         217                 0         0   \n",
        "3   64    1                4      130         223                 0         1   \n",
        "4   62    1                1      120         139                 0         1   \n",
        "\n",
        "   st_max_heart_rt_ach  st_exercise_angina  st_depression  ...    patient_id  \\\n",
        "0                  140                   0            0.0  ...           503   \n",
        "1                  130                   0            0.0  ...           898   \n",
        "2                  111                   1            5.6  ...           124   \n",
        "3                  128                   0            0.5  ...           825   \n",
        "4                  150                   0            0.0  ...           917   \n",
        "\n",
        "   cp1  cp2  cp3 cp_asym  fbs0  fbs1  thal3  thal6  thal7  \n",
        "0    0    0    0       1     1     0      1      0      0  \n",
        "1    0    0    0       1     0     1      0      1      0  \n",
        "2    0    0    0       1     1     0      0      0      1  \n",
        "3    0    0    0       1     1     0      1      0      0  \n",
        "4    1    0    0       0     1     0      1      0      0  \n",
        "\n",
        "[5 rows x 25 columns]"
       ]
      }
     ],
     "prompt_number": 172
    },
    {
     "cell_type": "code",
     "collapsed": false,
     "input": [],
     "language": "python",
     "metadata": {},
     "outputs": []
    }
   ],
   "metadata": {}
  }
 ]
}